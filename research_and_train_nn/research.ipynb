{
 "cells": [
  {
   "cell_type": "code",
   "execution_count": 1,
   "metadata": {},
   "outputs": [
    {
     "name": "stdout",
     "output_type": "stream",
     "text": [
      "Archive:  example_data_glasses.zip\n",
      "   creating: example_data_glasses/\n",
      "   creating: example_data_glasses/without_glasses/\n",
      "  inflating: example_data_glasses/without_glasses/8.jpg  \n",
      "  inflating: example_data_glasses/without_glasses/9.jpg  \n",
      "  inflating: example_data_glasses/without_glasses/14.jpg  \n",
      "  inflating: example_data_glasses/without_glasses/15.jpg  \n",
      "  inflating: example_data_glasses/without_glasses/17.jpg  \n",
      "  inflating: example_data_glasses/without_glasses/16.jpg  \n",
      "  inflating: example_data_glasses/without_glasses/12.jpg  \n",
      "  inflating: example_data_glasses/without_glasses/13.jpg  \n",
      "  inflating: example_data_glasses/without_glasses/11.jpg  \n",
      "  inflating: example_data_glasses/without_glasses/10.jpg  \n",
      "  inflating: example_data_glasses/without_glasses/18.jpg  \n",
      "  inflating: example_data_glasses/without_glasses/19.jpg  \n",
      "   creating: __MACOSX/\n",
      "   creating: __MACOSX/example_data_glasses/\n",
      "   creating: __MACOSX/example_data_glasses/without_glasses/\n",
      "  inflating: __MACOSX/example_data_glasses/without_glasses/._19.jpg  \n",
      "  inflating: example_data_glasses/without_glasses/4.jpg  \n",
      "  inflating: example_data_glasses/without_glasses/5.jpg  \n",
      "  inflating: example_data_glasses/without_glasses/7.jpg  \n",
      "  inflating: example_data_glasses/without_glasses/6.jpg  \n",
      "  inflating: example_data_glasses/without_glasses/2.jpg  \n",
      "  inflating: example_data_glasses/without_glasses/3.jpg  \n",
      "  inflating: example_data_glasses/without_glasses/1.jpg  \n",
      "  inflating: example_data_glasses/without_glasses/0.jpg  \n",
      "   creating: example_data_glasses/with_glasses/\n",
      "  inflating: example_data_glasses/with_glasses/8.jpg  \n",
      "  inflating: example_data_glasses/with_glasses/9.jpg  \n",
      "  inflating: example_data_glasses/with_glasses/14.jpg  \n",
      "  inflating: example_data_glasses/with_glasses/15.jpg  \n",
      "  inflating: example_data_glasses/with_glasses/17.jpg  \n",
      "  inflating: example_data_glasses/with_glasses/16.jpg  \n",
      "  inflating: example_data_glasses/with_glasses/12.jpg  \n",
      "  inflating: example_data_glasses/with_glasses/13.jpg  \n",
      "  inflating: example_data_glasses/with_glasses/11.jpg  \n",
      "  inflating: example_data_glasses/with_glasses/10.jpg  \n",
      "  inflating: example_data_glasses/with_glasses/18.jpg  \n",
      "  inflating: example_data_glasses/with_glasses/19.jpg  \n",
      "  inflating: example_data_glasses/with_glasses/4.jpg  \n",
      "  inflating: example_data_glasses/with_glasses/5.jpg  \n",
      "  inflating: example_data_glasses/with_glasses/7.jpg  \n",
      "  inflating: example_data_glasses/with_glasses/6.jpg  \n",
      "  inflating: example_data_glasses/with_glasses/2.jpg  \n",
      "  inflating: example_data_glasses/with_glasses/3.jpg  \n",
      "  inflating: example_data_glasses/with_glasses/1.jpg  \n",
      "  inflating: example_data_glasses/with_glasses/0.jpg  \n"
     ]
    }
   ],
   "source": [
    "!unzip example_data_glasses.zip"
   ]
  },
  {
   "cell_type": "code",
   "execution_count": 74,
   "metadata": {},
   "outputs": [
    {
     "name": "stdout",
     "output_type": "stream",
     "text": [
      "Collecting tqdm\n",
      "\u001b[?25l  Downloading https://files.pythonhosted.org/packages/91/55/8cb23a97301b177e9c8e3226dba45bb454411de2cbd25746763267f226c2/tqdm-4.28.1-py2.py3-none-any.whl (45kB)\n",
      "\u001b[K    100% |################################| 51kB 25.2MB/s ta 0:00:01\n",
      "\u001b[?25hInstalling collected packages: tqdm\n",
      "Successfully installed tqdm-4.28.1\n",
      "\u001b[33mYou are using pip version 10.0.1, however version 18.1 is available.\n",
      "You should consider upgrading via the 'pip install --upgrade pip' command.\u001b[0m\n"
     ]
    }
   ],
   "source": [
    "!pip install tqdm"
   ]
  },
  {
   "cell_type": "code",
   "execution_count": 1,
   "metadata": {},
   "outputs": [
    {
     "name": "stderr",
     "output_type": "stream",
     "text": [
      "Using TensorFlow backend.\n"
     ]
    }
   ],
   "source": [
    "from glob import glob\n",
    "from skimage import io\n",
    "import cv2\n",
    "import keras\n",
    "from keras.datasets import mnist\n",
    "from keras.models import Sequential\n",
    "from keras.layers import Dense, Dropout, Flatten, Activation\n",
    "from keras.layers import Conv2D, MaxPooling2D, GlobalAveragePooling2D\n",
    "from keras import backend as K\n",
    "from keras.utils import to_categorical\n",
    "import numpy as np\n",
    "from tqdm import tqdm_notebook\n",
    "\n",
    "from albumentations import (\n",
    "    HorizontalFlip, IAAPerspective, ShiftScaleRotate, CLAHE, RandomRotate90,\n",
    "    Transpose, ShiftScaleRotate, Blur, OpticalDistortion, GridDistortion, HueSaturationValue,\n",
    "    IAAAdditiveGaussianNoise, GaussNoise, MotionBlur, MedianBlur, IAAPiecewiseAffine,\n",
    "    IAASharpen, IAAEmboss, RandomContrast, RandomBrightness, Flip, OneOf, Compose\n",
    ")\n",
    "\n",
    "from albumentations import (\n",
    "    PadIfNeeded,\n",
    "    HorizontalFlip,\n",
    "    VerticalFlip,    \n",
    "    CenterCrop,    \n",
    "    Crop,\n",
    "    Compose,\n",
    "    Transpose,\n",
    "    RandomRotate90,\n",
    "    ElasticTransform,\n",
    "    GridDistortion, \n",
    "    OpticalDistortion,\n",
    "    RandomSizedCrop,\n",
    "    OneOf,\n",
    "    CLAHE,\n",
    "    RandomContrast,\n",
    "    RandomGamma,\n",
    "    RandomBrightness\n",
    ")\n",
    "\n",
    "from albumentations import HorizontalFlip\n",
    "\n",
    "import dlib\n",
    "\n",
    "import matplotlib.pyplot as plt"
   ]
  },
  {
   "cell_type": "code",
   "execution_count": null,
   "metadata": {},
   "outputs": [],
   "source": [
    "layers"
   ]
  },
  {
   "cell_type": "code",
   "execution_count": 6,
   "metadata": {},
   "outputs": [
    {
     "name": "stdout",
     "output_type": "stream",
     "text": [
      "Collecting dlib\n",
      "\u001b[?25l  Downloading https://files.pythonhosted.org/packages/35/8d/e4ddf60452e2fb1ce3164f774e68968b3f110f1cb4cd353235d56875799e/dlib-19.16.0.tar.gz (3.3MB)\n",
      "\u001b[K    100% |################################| 3.3MB 14.3MB/s ta 0:00:01\n",
      "\u001b[?25hBuilding wheels for collected packages: dlib\n",
      "  Running setup.py bdist_wheel for dlib ... \u001b[?25ldone\n",
      "\u001b[?25h  Stored in directory: /home/ubuntu/.cache/pip/wheels/ce/f9/bc/1c51cd0b40a2b5dfd46ab79a73832b41e7c3aa918a508154f0\n",
      "Successfully built dlib\n",
      "Installing collected packages: dlib\n",
      "Successfully installed dlib-19.16.0\n",
      "\u001b[33mYou are using pip version 10.0.1, however version 18.1 is available.\n",
      "You should consider upgrading via the 'pip install --upgrade pip' command.\u001b[0m\n"
     ]
    }
   ],
   "source": [
    "!pip install dlib"
   ]
  },
  {
   "cell_type": "code",
   "execution_count": 2,
   "metadata": {},
   "outputs": [],
   "source": [
    "test_data_paths = glob(\"./example_data_glasses/*/*\")\n",
    "test_labels = list(map(lambda x: 0 if \"without\" in x else 1, test_data_paths))\n",
    "test_data = list(map(cv2.imread, test_data_paths))"
   ]
  },
  {
   "cell_type": "code",
   "execution_count": 3,
   "metadata": {},
   "outputs": [
    {
     "name": "stdout",
     "output_type": "stream",
     "text": [
      "(900, 602, 3)\n",
      "(900, 743, 3)\n",
      "(588, 471, 3)\n",
      "(900, 567, 3)\n",
      "(900, 716, 3)\n",
      "(900, 597, 3)\n",
      "(854, 784, 3)\n",
      "(811, 900, 3)\n",
      "(900, 872, 3)\n",
      "(900, 707, 3)\n",
      "(571, 480, 3)\n",
      "(900, 539, 3)\n",
      "(900, 846, 3)\n",
      "(900, 507, 3)\n",
      "(900, 762, 3)\n",
      "(901, 566, 3)\n",
      "(858, 900, 3)\n",
      "(900, 507, 3)\n",
      "(552, 552, 3)\n",
      "(859, 731, 3)\n",
      "(900, 659, 3)\n",
      "(900, 711, 3)\n",
      "(674, 900, 3)\n",
      "(900, 737, 3)\n",
      "(678, 900, 3)\n",
      "(428, 456, 3)\n",
      "(667, 667, 3)\n",
      "(900, 548, 3)\n",
      "(900, 663, 3)\n",
      "(672, 672, 3)\n",
      "(900, 701, 3)\n",
      "(900, 900, 3)\n",
      "(816, 720, 3)\n",
      "(900, 635, 3)\n",
      "(552, 552, 3)\n",
      "(780, 720, 3)\n",
      "(900, 697, 3)\n",
      "(900, 731, 3)\n",
      "(852, 720, 3)\n",
      "(804, 720, 3)\n"
     ]
    }
   ],
   "source": [
    "for img in test_data:\n",
    "    print(img.shape)"
   ]
  },
  {
   "cell_type": "code",
   "execution_count": 428,
   "metadata": {},
   "outputs": [
    {
     "name": "stdout",
     "output_type": "stream",
     "text": [
      "Reading package lists... Done\n",
      "Building dependency tree       \n",
      "Reading state information... Done\n",
      "E: Unable to locate package bunzip\n"
     ]
    }
   ],
   "source": [
    "!sudo apt-get install bunzip"
   ]
  },
  {
   "cell_type": "code",
   "execution_count": 438,
   "metadata": {},
   "outputs": [],
   "source": [
    "!bzip2 -d dlib-models/dlib_face_recognition_resnet_model_v1.dat.bz2"
   ]
  },
  {
   "cell_type": "code",
   "execution_count": 432,
   "metadata": {},
   "outputs": [],
   "source": []
  },
  {
   "cell_type": "code",
   "execution_count": 4,
   "metadata": {},
   "outputs": [],
   "source": [
    "dlib_detector = dlib.get_frontal_face_detector()\n",
    "dlib_shape_predictor = dlib.shape_predictor(\"../shape_predictor_68_face_landmarks.dat\")\n",
    "dnnFaceDetector = dlib.cnn_face_detection_model_v1(\"./dlib-models/mmod_human_face_detector.dat\")"
   ]
  },
  {
   "cell_type": "code",
   "execution_count": 441,
   "metadata": {},
   "outputs": [],
   "source": [
    "dnnFaceDetector = dlib.cnn_face_detection_model_v1(\"./dlib-models/mmod_human_face_detector.dat\")\n",
    "faceRects = dnnFaceDetector(image, 0)\n",
    "for faceRect in faceRects:\n",
    "    x1 = faceRect.rect.left()\n",
    "    y1 = faceRect.rect.top()\n",
    "    x2 = faceRect.rect.right()\n",
    "    y2 = faceRect.rect.bottom()"
   ]
  },
  {
   "cell_type": "code",
   "execution_count": 5,
   "metadata": {},
   "outputs": [],
   "source": [
    "def get_rect(image):\n",
    "    \"\"\"\n",
    "    image -- bgr image\n",
    "    returns: np array with landmarks\n",
    "    \"\"\"\n",
    "    rects = dlib_detector(image, 0)\n",
    "    if len(rects) == 1:\n",
    "        return rects[0]\n",
    "    else:\n",
    "        rects = dnnFaceDetector(image, 0)\n",
    "        if len(rects) == 1:\n",
    "            return rects[0].rect\n",
    "        return []"
   ]
  },
  {
   "cell_type": "code",
   "execution_count": 6,
   "metadata": {},
   "outputs": [],
   "source": [
    "def get_lm(image):\n",
    "    \"\"\"\n",
    "    image -- bgr image\n",
    "    returns: np array with landmarks\n",
    "    \"\"\"\n",
    "    rects = dlib_detector(image, 0)\n",
    "    if len(rects) == 1:\n",
    "        rect = rects[0]\n",
    "    else:\n",
    "        return []\n",
    "    shape = dlib_shape_predictor(test_data[0], rect)\n",
    "    lm = shape.parts()\n",
    "    lm = np.array([[p.x, p.y] for p in lm])\n",
    "    return lm"
   ]
  },
  {
   "cell_type": "code",
   "execution_count": null,
   "metadata": {},
   "outputs": [],
   "source": []
  },
  {
   "cell_type": "code",
   "execution_count": null,
   "metadata": {},
   "outputs": [],
   "source": []
  },
  {
   "cell_type": "code",
   "execution_count": null,
   "metadata": {},
   "outputs": [],
   "source": []
  },
  {
   "cell_type": "code",
   "execution_count": null,
   "metadata": {},
   "outputs": [],
   "source": [
    "for i in range(len(test_data)):\n",
    "    image = test_data[i]\n",
    "    rect = get_rect(image)\n",
    "    plt.imshow(cv2.cvtColor(image[rect.top():rect.bottom() - rect.height() // 2, rect.left():rect.right()], cv2.COLOR_BGR2RGB))\n",
    "    plt.show()"
   ]
  },
  {
   "cell_type": "code",
   "execution_count": 399,
   "metadata": {},
   "outputs": [
    {
     "data": {
      "text/plain": [
       "array([399, 219])"
      ]
     },
     "execution_count": 399,
     "metadata": {},
     "output_type": "execute_result"
    }
   ],
   "source": [
    "lm[16]"
   ]
  },
  {
   "cell_type": "code",
   "execution_count": 400,
   "metadata": {
    "scrolled": true
   },
   "outputs": [
    {
     "data": {
      "text/plain": [
       "<matplotlib.image.AxesImage at 0x7f57cb5561d0>"
      ]
     },
     "execution_count": 400,
     "metadata": {},
     "output_type": "execute_result"
    },
    {
     "data": {
      "image/png": "[encoded data removed]",
      "text/plain": [
       "<Figure size 432x288 with 1 Axes>"
      ]
     },
     "metadata": {},
     "output_type": "display_data"
    }
   ],
   "source": [
    "plt.imshow(image[2 * lm[27, 1] - lm[30, 1]:lm[30, 1], lm[0, 0]:lm[16, 0]])"
   ]
  },
  {
   "cell_type": "code",
   "execution_count": 7,
   "metadata": {},
   "outputs": [],
   "source": [
    "def get_eyes_zone(image):\n",
    "    rect = get_rect(image)\n",
    "    if rect == []:\n",
    "        return []\n",
    "    h, w = image.shape[:2]\n",
    "    top = np.max([0, rect.top()])\n",
    "    bottom = np.min([h, rect.bottom() - rect.height() // 2])\n",
    "    left = np.max([0, rect.left()])\n",
    "    right = np.min([w, rect.right()])\n",
    "    return image[top:bottom, left:right]\n",
    "#     lm = get_lm(image)\n",
    "#     if len(lm) == 0:\n",
    "#         return []\n",
    "#     if lm[0, 0] < lm[16, 0]:\n",
    "#         left, right = lm[0, 0], lm[16, 0]\n",
    "#     else:\n",
    "#         left, right = lm[16, 0], lm[0, 0]\n",
    "    \n",
    "#     top = 2 * lm[27, 1] - lm[30, 1]\n",
    "#     bottom = lm[30, 1]\n",
    "#     return image[top:bottom, left:right]"
   ]
  },
  {
   "cell_type": "code",
   "execution_count": 489,
   "metadata": {},
   "outputs": [
    {
     "name": "stdout",
     "output_type": "stream",
     "text": [
      "fatal: destination path 'MeGlass' already exists and is not an empty directory.\r\n"
     ]
    }
   ],
   "source": [
    "!git clone https://github.com/cleardusk/MeGlass"
   ]
  },
  {
   "cell_type": "code",
   "execution_count": 8,
   "metadata": {},
   "outputs": [],
   "source": [
    "meglass_meta = np.loadtxt(\"./MeGlass/meta.txt\", dtype=np.object)"
   ]
  },
  {
   "cell_type": "code",
   "execution_count": 9,
   "metadata": {},
   "outputs": [],
   "source": [
    "!rm -rf MeGlassEyeZone\n",
    "!mkdir MeGlassEyeZone"
   ]
  },
  {
   "cell_type": "code",
   "execution_count": 10,
   "metadata": {
    "scrolled": true
   },
   "outputs": [
    {
     "data": {
      "application/vnd.jupyter.widget-view+json": {
       "model_id": "c63dd23b90ce47478c62d0a3692c2be8",
       "version_major": 2,
       "version_minor": 0
      },
      "text/plain": [
       "HBox(children=(IntProgress(value=0, max=47917), HTML(value='')))"
      ]
     },
     "metadata": {},
     "output_type": "display_data"
    },
    {
     "name": "stdout",
     "output_type": "stream",
     "text": [
      "1\n",
      "1\n",
      "1\n",
      "1\n",
      "1\n",
      "1\n",
      "1\n",
      "1\n",
      "1\n",
      "1\n",
      "1\n",
      "1\n",
      "1\n",
      "1\n",
      "1\n",
      "1\n",
      "1\n",
      "1\n",
      "1\n",
      "1\n",
      "1\n",
      "1\n",
      "1\n",
      "1\n",
      "1\n",
      "1\n",
      "1\n",
      "1\n",
      "1\n",
      "1\n",
      "1\n",
      "1\n",
      "1\n",
      "1\n",
      "1\n",
      "1\n",
      "1\n",
      "1\n",
      "1\n",
      "1\n",
      "1\n",
      "1\n",
      "1\n",
      "1\n",
      "1\n",
      "1\n",
      "1\n",
      "1\n",
      "1\n",
      "1\n",
      "1\n",
      "1\n",
      "1\n",
      "1\n",
      "1\n",
      "1\n",
      "1\n",
      "1\n",
      "1\n",
      "1\n",
      "1\n",
      "1\n",
      "1\n",
      "1\n",
      "1\n",
      "1\n",
      "1\n",
      "1\n",
      "1\n",
      "1\n",
      "1\n",
      "1\n",
      "1\n",
      "1\n",
      "1\n",
      "1\n",
      "1\n",
      "1\n",
      "1\n",
      "1\n",
      "1\n",
      "1\n",
      "1\n",
      "1\n",
      "1\n",
      "1\n",
      "1\n",
      "1\n",
      "1\n",
      "1\n",
      "1\n",
      "1\n",
      "1\n",
      "1\n",
      "1\n",
      "1\n",
      "1\n",
      "1\n",
      "1\n",
      "1\n",
      "1\n",
      "1\n",
      "1\n",
      "1\n",
      "1\n",
      "1\n",
      "1\n",
      "1\n",
      "1\n",
      "1\n",
      "1\n",
      "1\n",
      "1\n",
      "1\n",
      "1\n",
      "1\n",
      "1\n",
      "1\n",
      "1\n",
      "1\n",
      "1\n",
      "1\n",
      "1\n",
      "1\n",
      "1\n",
      "1\n",
      "1\n",
      "1\n",
      "1\n",
      "1\n",
      "1\n",
      "1\n",
      "1\n",
      "1\n",
      "1\n",
      "1\n",
      "1\n",
      "1\n",
      "1\n",
      "1\n",
      "1\n",
      "1\n",
      "1\n",
      "1\n",
      "1\n",
      "1\n",
      "1\n",
      "1\n",
      "1\n",
      "1\n",
      "1\n",
      "1\n",
      "1\n",
      "1\n",
      "1\n",
      "1\n",
      "1\n",
      "1\n",
      "1\n",
      "1\n",
      "1\n",
      "1\n",
      "1\n",
      "1\n",
      "1\n",
      "1\n",
      "1\n",
      "1\n",
      "1\n",
      "1\n",
      "1\n",
      "1\n",
      "1\n",
      "1\n",
      "1\n",
      "1\n",
      "1\n",
      "1\n",
      "1\n",
      "1\n",
      "1\n",
      "1\n",
      "1\n",
      "1\n",
      "1\n",
      "1\n",
      "1\n",
      "1\n",
      "1\n",
      "1\n",
      "1\n",
      "1\n",
      "1\n",
      "1\n",
      "1\n",
      "1\n",
      "1\n",
      "1\n",
      "1\n",
      "1\n",
      "1\n",
      "1\n",
      "1\n",
      "1\n",
      "1\n",
      "1\n",
      "1\n",
      "1\n",
      "1\n",
      "1\n",
      "1\n",
      "1\n",
      "1\n",
      "1\n",
      "1\n",
      "1\n",
      "1\n",
      "1\n",
      "1\n",
      "1\n",
      "1\n",
      "1\n",
      "1\n",
      "1\n",
      "1\n",
      "1\n",
      "1\n",
      "1\n",
      "1\n",
      "1\n",
      "1\n",
      "1\n",
      "1\n",
      "1\n",
      "1\n",
      "1\n",
      "1\n",
      "1\n",
      "1\n",
      "1\n",
      "1\n",
      "1\n",
      "1\n",
      "1\n",
      "1\n",
      "1\n",
      "1\n",
      "1\n",
      "1\n",
      "1\n",
      "1\n",
      "1\n",
      "1\n",
      "1\n",
      "1\n",
      "1\n",
      "1\n",
      "1\n",
      "1\n",
      "1\n",
      "1\n",
      "1\n",
      "1\n",
      "1\n",
      "1\n",
      "1\n",
      "1\n",
      "1\n",
      "1\n",
      "1\n",
      "1\n",
      "1\n",
      "1\n",
      "1\n",
      "1\n",
      "1\n",
      "1\n",
      "1\n",
      "1\n",
      "1\n",
      "1\n",
      "1\n",
      "1\n",
      "1\n",
      "1\n",
      "1\n",
      "1\n",
      "1\n",
      "1\n",
      "1\n",
      "1\n",
      "1\n",
      "1\n",
      "1\n",
      "1\n",
      "1\n",
      "1\n",
      "1\n",
      "1\n",
      "1\n",
      "1\n",
      "1\n",
      "1\n",
      "1\n",
      "1\n",
      "1\n",
      "1\n",
      "1\n",
      "1\n",
      "1\n",
      "1\n",
      "1\n",
      "1\n",
      "1\n",
      "1\n",
      "1\n",
      "1\n",
      "1\n",
      "1\n",
      "1\n",
      "1\n",
      "1\n",
      "1\n",
      "1\n",
      "1\n",
      "1\n",
      "1\n",
      "1\n",
      "1\n",
      "1\n",
      "1\n",
      "1\n",
      "1\n",
      "1\n",
      "1\n",
      "1\n",
      "1\n",
      "1\n",
      "1\n",
      "1\n",
      "1\n",
      "1\n",
      "1\n",
      "1\n",
      "1\n",
      "1\n",
      "1\n",
      "1\n",
      "1\n",
      "1\n",
      "1\n",
      "1\n",
      "1\n",
      "1\n",
      "1\n",
      "1\n",
      "1\n",
      "1\n",
      "1\n",
      "1\n",
      "1\n",
      "1\n",
      "1\n",
      "1\n",
      "1\n",
      "1\n",
      "1\n",
      "1\n",
      "1\n",
      "1\n",
      "1\n",
      "1\n",
      "1\n",
      "1\n",
      "1\n",
      "1\n",
      "1\n",
      "1\n",
      "1\n",
      "1\n",
      "1\n",
      "1\n",
      "1\n",
      "1\n",
      "1\n",
      "1\n",
      "1\n",
      "1\n",
      "1\n",
      "1\n",
      "1\n",
      "1\n",
      "1\n",
      "1\n",
      "1\n",
      "1\n",
      "1\n",
      "1\n",
      "1\n",
      "1\n",
      "1\n",
      "1\n",
      "1\n",
      "1\n",
      "1\n",
      "1\n",
      "1\n",
      "1\n",
      "1\n",
      "1\n",
      "1\n",
      "1\n",
      "1\n",
      "1\n",
      "1\n",
      "1\n",
      "1\n",
      "1\n",
      "1\n",
      "1\n",
      "1\n",
      "1\n",
      "1\n",
      "1\n",
      "1\n",
      "1\n",
      "1\n",
      "1\n",
      "1\n",
      "1\n",
      "1\n",
      "1\n",
      "1\n",
      "1\n",
      "1\n",
      "1\n",
      "1\n",
      "1\n",
      "1\n",
      "1\n",
      "1\n",
      "1\n",
      "1\n",
      "1\n",
      "1\n",
      "1\n",
      "1\n",
      "1\n",
      "1\n",
      "1\n",
      "1\n",
      "1\n",
      "1\n",
      "1\n",
      "1\n",
      "1\n",
      "1\n",
      "1\n",
      "1\n",
      "1\n",
      "1\n",
      "1\n",
      "1\n",
      "1\n",
      "1\n",
      "1\n",
      "1\n",
      "1\n",
      "1\n",
      "1\n",
      "1\n",
      "1\n",
      "1\n",
      "1\n",
      "1\n",
      "1\n",
      "1\n",
      "1\n",
      "\n"
     ]
    }
   ],
   "source": [
    "eyezone_meta = {}\n",
    "\n",
    "logs = []\n",
    "for image_path, label in tqdm_notebook(meglass_meta):\n",
    "    image = cv2.imread(\"./MeGlass_120x120/{}\".format(image_path))\n",
    "    eyezone_image = get_eyes_zone(image)\n",
    "    if len(eyezone_image) == 0:\n",
    "        print(1)\n",
    "        logs.append([\"./MeGlass_120x120/{}\".format(image_path), \"Face not found\"])\n",
    "    else:\n",
    "        cv2.imwrite(\"./MeGlassEyeZone/{}\".format(image_path), eyezone_image)\n",
    "        eyezone_meta[\"./MeGlassEyeZone/{}\".format(image_path)] = label"
   ]
  },
  {
   "cell_type": "code",
   "execution_count": 13,
   "metadata": {},
   "outputs": [],
   "source": [
    "import os"
   ]
  },
  {
   "cell_type": "code",
   "execution_count": 14,
   "metadata": {},
   "outputs": [],
   "source": [
    "!rm -rf TestImagesEyeZone\n",
    "!mkdir TestImagesEyeZone\n",
    "!mkdir TestImagesEyeZone/without_glasses\n",
    "!mkdir TestImagesEyeZone/with_glasses"
   ]
  },
  {
   "cell_type": "code",
   "execution_count": 15,
   "metadata": {},
   "outputs": [
    {
     "data": {
      "application/vnd.jupyter.widget-view+json": {
       "model_id": "545dd5a948f746bab0764524593f1b27",
       "version_major": 2,
       "version_minor": 0
      },
      "text/plain": [
       "HBox(children=(IntProgress(value=1, bar_style='info', max=1), HTML(value='')))"
      ]
     },
     "metadata": {},
     "output_type": "display_data"
    },
    {
     "name": "stdout",
     "output_type": "stream",
     "text": [
      "\n"
     ]
    }
   ],
   "source": [
    "logs_test = []\n",
    "eyezone_test_meta = {}\n",
    "for image_path, label in tqdm_notebook(zip(test_data_paths, test_labels)):\n",
    "    image = cv2.imread(\"{}\".format(image_path))\n",
    "    eyezone_image = get_eyes_zone(image)\n",
    "    if len(eyezone_image) == 0:\n",
    "        logs_test.append([\"{}\".format(image_path), \"Face not found\"])\n",
    "    else:\n",
    "        direct = \"with_glasses\" if label else \"without_glasses\" \n",
    "        cv2.imwrite(\"./TestImagesEyeZone/{}/{}\".format(direct, os.path.basename(image_path)), eyezone_image)\n",
    "        eyezone_test_meta[\"./TestImagesEyeZone/{}/{}\".format(direct, os.path.basename(image_path))] = label"
   ]
  },
  {
   "cell_type": "code",
   "execution_count": 16,
   "metadata": {},
   "outputs": [
    {
     "name": "stdout",
     "output_type": "stream",
     "text": [
      "0.jpg  10.jpg  12.jpg  14.jpg  16.jpg  18.jpg  2.jpg  4.jpg  6.jpg  8.jpg\r\n",
      "1.jpg  11.jpg  13.jpg  15.jpg  17.jpg  19.jpg  3.jpg  5.jpg  7.jpg  9.jpg\r\n"
     ]
    }
   ],
   "source": [
    "!ls TestImagesEyeZone/with_glasses/"
   ]
  },
  {
   "cell_type": "code",
   "execution_count": 461,
   "metadata": {},
   "outputs": [
    {
     "data": {
      "text/plain": [
       "[]"
      ]
     },
     "execution_count": 461,
     "metadata": {},
     "output_type": "execute_result"
    }
   ],
   "source": [
    "logs_test"
   ]
  },
  {
   "cell_type": "code",
   "execution_count": 109,
   "metadata": {},
   "outputs": [
    {
     "name": "stdout",
     "output_type": "stream",
     "text": [
      "./MeGlass_120x120/10032527@N08_identity_4@2582182573_0.jpg\r\n"
     ]
    }
   ],
   "source": [
    "!ls './MeGlass_120x120/10032527@N08_identity_4@2582182573_0.jpg'"
   ]
  },
  {
   "cell_type": "code",
   "execution_count": null,
   "metadata": {},
   "outputs": [],
   "source": [
    "ls ./MeGlass_120x120/"
   ]
  },
  {
   "cell_type": "code",
   "execution_count": 17,
   "metadata": {},
   "outputs": [
    {
     "data": {
      "application/vnd.jupyter.widget-view+json": {
       "model_id": "377a4bab3fdd4fbcb47ac5cd95ab10b4",
       "version_major": 2,
       "version_minor": 0
      },
      "text/plain": [
       "HBox(children=(IntProgress(value=0, max=47439), HTML(value='')))"
      ]
     },
     "metadata": {},
     "output_type": "display_data"
    },
    {
     "name": "stdout",
     "output_type": "stream",
     "text": [
      "\n"
     ]
    }
   ],
   "source": [
    "images_path_with_glasses = []\n",
    "images_path_without_glasses = []\n",
    "for image_path, label in tqdm_notebook(eyezone_meta.items()):\n",
    "    if label == '1':\n",
    "        eyezone_meta[image_path] = int(label)\n",
    "        images_path_with_glasses.append(image_path)\n",
    "    else:\n",
    "        eyezone_meta[image_path] = int(label)\n",
    "        images_path_without_glasses.append(image_path)"
   ]
  },
  {
   "cell_type": "code",
   "execution_count": 18,
   "metadata": {},
   "outputs": [],
   "source": [
    "import scipy.stats as sps"
   ]
  },
  {
   "cell_type": "code",
   "execution_count": 514,
   "metadata": {},
   "outputs": [
    {
     "name": "stdout",
     "output_type": "stream",
     "text": [
      "./MeGlassEyeZone/10700761@N08_identity_4@3580401865_0.jpg\r\n"
     ]
    }
   ],
   "source": [
    "!ls ./MeGlassEyeZone/10700761@N08_identity_4@3580401865_0.jpg"
   ]
  },
  {
   "cell_type": "code",
   "execution_count": 519,
   "metadata": {},
   "outputs": [
    {
     "data": {
      "application/vnd.jupyter.widget-view+json": {
       "model_id": "90ccfa16ae494298b53b9a81bcb111ad",
       "version_major": 2,
       "version_minor": 0
      },
      "text/plain": [
       "HBox(children=(IntProgress(value=0, max=47439), HTML(value='')))"
      ]
     },
     "metadata": {},
     "output_type": "display_data"
    }
   ],
   "source": [
    "ws, hs = [], []\n",
    "for image_path in tqdm_notebook(eyezone_meta.keys()):\n",
    "    image = cv2.imread(image_path)\n",
    "    if image is None:\n",
    "        print(image_path)\n",
    "    else:\n",
    "        w, h = image.shape[:2]\n",
    "        ws.append(w); hs.append(h)"
   ]
  },
  {
   "cell_type": "code",
   "execution_count": 520,
   "metadata": {},
   "outputs": [
    {
     "data": {
      "text/plain": [
       "(62, 120)"
      ]
     },
     "execution_count": 520,
     "metadata": {},
     "output_type": "execute_result"
    }
   ],
   "source": [
    "np.max(ws), np.max(hs)"
   ]
  },
  {
   "cell_type": "code",
   "execution_count": 521,
   "metadata": {},
   "outputs": [
    {
     "data": {
      "text/plain": [
       "array([ 72,  75,  76,  79,  80,  83,  85,  86,  87,  90,  91,  94,  95,\n",
       "        96, 100, 101, 103, 104, 108, 110, 113, 120])"
      ]
     },
     "execution_count": 521,
     "metadata": {},
     "output_type": "execute_result"
    }
   ],
   "source": [
    "np.unique(hs)"
   ]
  },
  {
   "cell_type": "code",
   "execution_count": 523,
   "metadata": {},
   "outputs": [
    {
     "data": {
      "text/plain": [
       "(array([3.9200e+02, 5.6700e+02, 4.2848e+04, 0.0000e+00, 1.7060e+03,\n",
       "        0.0000e+00, 1.6500e+03, 1.0000e+00, 1.3300e+02, 1.4200e+02]),\n",
       " array([36. , 38.6, 41.2, 43.8, 46.4, 49. , 51.6, 54.2, 56.8, 59.4, 62. ]),\n",
       " <a list of 10 Patch objects>)"
      ]
     },
     "execution_count": 523,
     "metadata": {},
     "output_type": "execute_result"
    },
    {
     "data": {
      "image/png": "[encoded data removed]",
      "text/plain": [
       "<Figure size 432x288 with 1 Axes>"
      ]
     },
     "metadata": {},
     "output_type": "display_data"
    }
   ],
   "source": [
    "plt.hist(ws)"
   ]
  },
  {
   "cell_type": "code",
   "execution_count": 19,
   "metadata": {},
   "outputs": [],
   "source": [
    "def make_square(image):\n",
    "    w, h = image.shape[:2]\n",
    "    if w > h:\n",
    "        top, bottom = 0, 0\n",
    "        left = (w - h) // 2\n",
    "        right = (w - h) - left\n",
    "    else:\n",
    "        left, right = 0, 0\n",
    "        top = (h - w) // 2\n",
    "        bottom = (h - w) - top\n",
    "    pad_image = cv2.copyMakeBorder(image, top, bottom, left, right, cv2.BORDER_CONSTANT, value=[0, 0, 0])\n",
    "    return cv2.resize(pad_image, (82, 82))"
   ]
  },
  {
   "cell_type": "code",
   "execution_count": 20,
   "metadata": {},
   "outputs": [],
   "source": [
    "def strong_aug(p=.5):\n",
    "    return Compose([\n",
    "        HorizontalFlip(),\n",
    "        OneOf([\n",
    "            IAAAdditiveGaussianNoise(),\n",
    "            GaussNoise(),\n",
    "        ], p=0.2),\n",
    "        OneOf([\n",
    "            MotionBlur(p=.2),\n",
    "            MedianBlur(blur_limit=3, p=.1),\n",
    "            Blur(blur_limit=3, p=.1),\n",
    "        ], p=0.2),\n",
    "        ShiftScaleRotate(shift_limit=0.0625, scale_limit=0.2, rotate_limit=45, p=.2),\n",
    "        OneOf([\n",
    "            OpticalDistortion(p=0.3),\n",
    "            GridDistortion(p=.1),\n",
    "            IAAPiecewiseAffine(p=0.3),\n",
    "        ], p=0.2),\n",
    "        OneOf([\n",
    "            CLAHE(clip_limit=2),\n",
    "            IAASharpen(),\n",
    "            IAAEmboss(),\n",
    "            RandomContrast(),\n",
    "            RandomBrightness(),\n",
    "        ], p=0.3),\n",
    "        HueSaturationValue(p=0.3),\n",
    "    ], p=p)"
   ]
  },
  {
   "cell_type": "code",
   "execution_count": 21,
   "metadata": {},
   "outputs": [],
   "source": [
    "aug = strong_aug()"
   ]
  },
  {
   "cell_type": "code",
   "execution_count": 22,
   "metadata": {},
   "outputs": [
    {
     "ename": "NameError",
     "evalue": "name 'pad_image' is not defined",
     "output_type": "error",
     "traceback": [
      "\u001b[0;31m---------------------------------------------------------------------------\u001b[0m",
      "\u001b[0;31mNameError\u001b[0m                                 Traceback (most recent call last)",
      "\u001b[0;32m<ipython-input-22-4e928e4194f2>\u001b[0m in \u001b[0;36m<module>\u001b[0;34m()\u001b[0m\n\u001b[0;32m----> 1\u001b[0;31m \u001b[0mplt\u001b[0m\u001b[0;34m.\u001b[0m\u001b[0mimshow\u001b[0m\u001b[0;34m(\u001b[0m\u001b[0maug\u001b[0m\u001b[0;34m(\u001b[0m\u001b[0mimage\u001b[0m\u001b[0;34m=\u001b[0m\u001b[0mpad_image\u001b[0m\u001b[0;34m)\u001b[0m\u001b[0;34m[\u001b[0m\u001b[0;34m\"image\"\u001b[0m\u001b[0;34m]\u001b[0m\u001b[0;34m)\u001b[0m\u001b[0;34m\u001b[0m\u001b[0m\n\u001b[0m",
      "\u001b[0;31mNameError\u001b[0m: name 'pad_image' is not defined"
     ]
    }
   ],
   "source": [
    "plt.imshow(aug(image=pad_image)[\"image\"])"
   ]
  },
  {
   "cell_type": "code",
   "execution_count": 23,
   "metadata": {},
   "outputs": [],
   "source": [
    "images_path_with_glasses_test = glob(\"./TestImagesEyeZone/with_glasses/*\")\n",
    "images_path_without_glasses_test = glob(\"./TestImagesEyeZone/without_glasses/*\")"
   ]
  },
  {
   "cell_type": "markdown",
   "metadata": {},
   "source": [
    "# model"
   ]
  },
  {
   "cell_type": "code",
   "execution_count": 24,
   "metadata": {},
   "outputs": [],
   "source": [
    "def get_batch_image_paths(batch_size):\n",
    "    n_with_glasses = int(batch_size * np.random.uniform(low=0.2, high=0.5))\n",
    "    n_without_glasses = batch_size - n_with_glasses\n",
    "    batch_image_paths = list(\n",
    "        np.random.choice(images_path_with_glasses, size=n_with_glasses)\n",
    "    ) + list(\n",
    "        np.random.choice(images_path_without_glasses, size=n_without_glasses)\n",
    "    )\n",
    "    np.random.shuffle(batch_image_paths)\n",
    "    return batch_image_paths"
   ]
  },
  {
   "cell_type": "code",
   "execution_count": 25,
   "metadata": {},
   "outputs": [],
   "source": [
    "def get_batch_image_paths_val(batch_size):\n",
    "    batch_image_paths = list(\n",
    "        images_path_with_glasses_test\n",
    "    ) + list(\n",
    "        images_path_without_glasses_test\n",
    "    )\n",
    "    return np.random.choice(batch_image_paths, size=batch_size)"
   ]
  },
  {
   "cell_type": "code",
   "execution_count": 26,
   "metadata": {},
   "outputs": [],
   "source": [
    "def keras_generator(batch_size, is_train=True):\n",
    "    while True:\n",
    "        x_batch = []\n",
    "        y_batch = []\n",
    "        if is_train:\n",
    "            batch_image_paths = get_batch_image_paths(batch_size)\n",
    "        else:\n",
    "            batch_image_paths = get_batch_image_paths_val(batch_size)\n",
    "#             print(batch_image_paths)\n",
    "        for image_path in batch_image_paths:\n",
    "            img = cv2.imread(image_path)\n",
    "            img = make_square(img)\n",
    "            img = aug(image=img)[\"image\"]\n",
    "            \n",
    "            if is_train:\n",
    "                label = eyezone_meta[image_path]\n",
    "            else:\n",
    "                label = 0 if \"without\" in image_path else 1\n",
    "            \n",
    "            x_batch += [img]\n",
    "            y_batch += [label]\n",
    "\n",
    "        x_batch = np.array(x_batch) / 255.\n",
    "        y_batch = np.array(y_batch)\n",
    "\n",
    "        yield x_batch, to_categorical(y_batch, num_classes=2)"
   ]
  },
  {
   "cell_type": "code",
   "execution_count": 37,
   "metadata": {},
   "outputs": [],
   "source": [
    "# mnist model\n",
    "\n",
    "model = Sequential()\n",
    "model.add(Conv2D(16, kernel_size=(3, 3),\n",
    "                 activation='relu',\n",
    "                 input_shape=[82, 82, 3]))\n",
    "model.add(Conv2D(32, (3, 3), activation='relu'))\n",
    "model.add(Conv2D(32, (3, 3), activation='relu'))\n",
    "model.add(Conv2D(64, (3, 3), activation='relu'))\n",
    "model.add(Conv2D(64, (3, 3), activation='relu'))\n",
    "model.add(Conv2D(128, (3, 3), activation='relu'))\n",
    "model.add(Conv2D(128, (3, 3), activation='relu'))\n",
    "model.add(GlobalAveragePooling2D())\n",
    "model.add(Dense(64, activation='relu'))\n",
    "model.add(Dense(2, activation='softmax'))\n",
    "model.compile(loss=keras.losses.binary_crossentropy,\n",
    "              optimizer=keras.optimizers.Adam(lr=0.0001, beta_1=0.9, beta_2=0.999, epsilon=1e-08, decay=0.0),\n",
    "              metrics=['accuracy'])"
   ]
  },
  {
   "cell_type": "code",
   "execution_count": 38,
   "metadata": {},
   "outputs": [
    {
     "name": "stdout",
     "output_type": "stream",
     "text": [
      "_________________________________________________________________\n",
      "Layer (type)                 Output Shape              Param #   \n",
      "=================================================================\n",
      "conv2d_22 (Conv2D)           (None, 80, 80, 16)        448       \n",
      "_________________________________________________________________\n",
      "conv2d_23 (Conv2D)           (None, 78, 78, 32)        4640      \n",
      "_________________________________________________________________\n",
      "conv2d_24 (Conv2D)           (None, 76, 76, 32)        9248      \n",
      "_________________________________________________________________\n",
      "conv2d_25 (Conv2D)           (None, 74, 74, 64)        18496     \n",
      "_________________________________________________________________\n",
      "conv2d_26 (Conv2D)           (None, 72, 72, 64)        36928     \n",
      "_________________________________________________________________\n",
      "conv2d_27 (Conv2D)           (None, 70, 70, 128)       73856     \n",
      "_________________________________________________________________\n",
      "conv2d_28 (Conv2D)           (None, 68, 68, 128)       147584    \n",
      "_________________________________________________________________\n",
      "global_average_pooling2d_4 ( (None, 128)               0         \n",
      "_________________________________________________________________\n",
      "dense_7 (Dense)              (None, 64)                8256      \n",
      "_________________________________________________________________\n",
      "dense_8 (Dense)              (None, 2)                 130       \n",
      "=================================================================\n",
      "Total params: 299,586\n",
      "Trainable params: 299,586\n",
      "Non-trainable params: 0\n",
      "_________________________________________________________________\n"
     ]
    }
   ],
   "source": [
    "model.summary()"
   ]
  },
  {
   "cell_type": "code",
   "execution_count": 39,
   "metadata": {},
   "outputs": [],
   "source": [
    "best_w = keras.callbacks.ModelCheckpoint('best_3.h5',\n",
    "                                monitor='val_loss',\n",
    "                                verbose=0,\n",
    "                                save_best_only=True,\n",
    "                                save_weights_only=False,\n",
    "                                mode='auto',\n",
    "                                period=1)\n",
    "\n",
    "last_w = keras.callbacks.ModelCheckpoint('last_3.h5',\n",
    "                                monitor='val_loss',\n",
    "                                verbose=0,\n",
    "                                save_best_only=False,\n",
    "                                save_weights_only=False,\n",
    "                                mode='auto',\n",
    "                                period=1)\n",
    "\n",
    "\n",
    "callbacks = [best_w, last_w]"
   ]
  },
  {
   "cell_type": "code",
   "execution_count": 42,
   "metadata": {},
   "outputs": [
    {
     "name": "stdout",
     "output_type": "stream",
     "text": [
      "\n"
     ]
    }
   ],
   "source": [
    "batch_size = 512\n",
    "model.fit_generator(keras_generator(batch_size),\n",
    "              steps_per_epoch=int(45032 / batch_size),\n",
    "              epochs=100,\n",
    "              verbose=1,\n",
    "              callbacks=callbacks,\n",
    "              validation_data=keras_generator(batch_size, False),\n",
    "              validation_steps=2,\n",
    "              class_weight=None,\n",
    "              max_queue_size=20,\n",
    "              workers=1,\n",
    "              use_multiprocessing=False,\n",
    "              shuffle=True,\n",
    "              initial_epoch=0)"
   ]
  },
  {
   "cell_type": "code",
   "execution_count": 580,
   "metadata": {},
   "outputs": [],
   "source": [
    "model._make_predict_function()"
   ]
  },
  {
   "cell_type": "code",
   "execution_count": 587,
   "metadata": {},
   "outputs": [
    {
     "name": "stdout",
     "output_type": "stream",
     "text": [
      "[[1. 0.]]\n",
      "[[1. 0.]]\n",
      "[[1. 0.]]\n",
      "[[0. 1.]]\n",
      "[[1. 0.]]\n",
      "[[1. 0.]]\n",
      "[[1. 0.]]\n",
      "[[1. 0.]]\n",
      "[[0. 1.]]\n",
      "[[1. 0.]]\n",
      "[[1. 0.]]\n",
      "[[1. 0.]]\n",
      "[[1. 0.]]\n",
      "[[1. 0.]]\n",
      "[[1. 0.]]\n",
      "[[1. 0.]]\n",
      "[[1. 0.]]\n",
      "[[1. 0.]]\n",
      "[[1. 0.]]\n",
      "[[1. 0.]]\n",
      "[[0. 1.]]\n",
      "[[1. 0.]]\n",
      "[[8.9127986e-38 1.0000000e+00]]\n",
      "[[1.0906797e-12 1.0000000e+00]]\n",
      "[[0. 1.]]\n",
      "[[0. 1.]]\n",
      "[[0. 1.]]\n",
      "[[1. 0.]]\n",
      "[[0. 1.]]\n",
      "[[1. 0.]]\n",
      "[[0. 1.]]\n",
      "[[1. 0.]]\n",
      "[[0. 1.]]\n",
      "[[0. 1.]]\n",
      "[[0. 1.]]\n",
      "[[0. 1.]]\n",
      "[[0. 1.]]\n",
      "[[0. 1.]]\n",
      "[[0. 1.]]\n",
      "[[0. 1.]]\n"
     ]
    }
   ],
   "source": [
    "for img in test_data:\n",
    "    eye_zone_img = get_eyes_zone(img)\n",
    "    to_nn = make_square(eye_zone_img)\n",
    "    print(model.predict(np.array([to_nn])))"
   ]
  },
  {
   "cell_type": "code",
   "execution_count": null,
   "metadata": {},
   "outputs": [],
   "source": []
  }
 ],
 "metadata": {
  "kernelspec": {
   "display_name": "Environment (conda_tensorflow_p36)",
   "language": "python",
   "name": "conda_tensorflow_p36"
  },
  "language_info": {
   "codemirror_mode": {
    "name": "ipython",
    "version": 3
   },
   "file_extension": ".py",
   "mimetype": "text/x-python",
   "name": "python",
   "nbconvert_exporter": "python",
   "pygments_lexer": "ipython3",
   "version": "3.6.5"
  }
 },
 "nbformat": 4,
 "nbformat_minor": 2
}
